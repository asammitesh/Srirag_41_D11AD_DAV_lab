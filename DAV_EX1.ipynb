{
  "nbformat": 4,
  "nbformat_minor": 0,
  "metadata": {
    "colab": {
      "provenance": [],
      "authorship_tag": "ABX9TyOTHw1xKJfNhHDP5F1XH7is",
      "include_colab_link": true
    },
    "kernelspec": {
      "name": "ir",
      "display_name": "R"
    },
    "language_info": {
      "name": "R"
    }
  },
  "cells": [
    {
      "cell_type": "markdown",
      "metadata": {
        "id": "view-in-github",
        "colab_type": "text"
      },
      "source": [
        "<a href=\"https://colab.research.google.com/github/asammitesh/Srirag_41_D11AD_DAV_lab/blob/main/DAV_EX1.ipynb\" target=\"_parent\"><img src=\"https://colab.research.google.com/assets/colab-badge.svg\" alt=\"Open In Colab\"/></a>"
      ]
    },
    {
      "cell_type": "markdown",
      "source": [
        "***Aim  :***\n",
        "Getting introduced to data analytics libraries in Python and R\n",
        "\n",
        "***Task to be performed :***\n",
        "Explore more than 2 Data Analytics Libraries in Python (w.r.t Features & Applications)\n",
        "\n",
        "***Task to be performed :***\n",
        "Explore more than 2 Data Analytics Libraries in R (w.r.t Features & Applications)\n",
        "\n",
        "***Theory:***\n",
        "\n",
        "**Data analytics libraries in Python:**\n",
        "\n",
        "\n",
        "**TensorFlow: **\n",
        "TensorFlow is an open-source machine learning library developed by the Google Brain team. It is widely used for building and training various machine learning models, especially neural networks.\n",
        "\n",
        "\n"
      ],
      "metadata": {
        "id": "2yX8ZaX3gmrV"
      }
    },
    {
      "cell_type": "code",
      "source": [
        "import tensorflow as tf\n",
        "\n",
        "# Define two constants\n",
        "a = tf.constant(2)\n",
        "b = tf.constant(3)\n",
        "\n",
        "# Perform simple arithmetic operations\n",
        "sum_ab = tf.add(a, b)\n",
        "product_ab = tf.multiply(a, b)\n",
        "\n",
        "print(\"TensorFlow Example:\")\n",
        "print(f\"Sum: {sum_ab.numpy()}\")\n",
        "print(f\"Product: {product_ab.numpy()}\")\n",
        "\n"
      ],
      "metadata": {
        "colab": {
          "base_uri": "https://localhost:8080/"
        },
        "id": "Hug5FiWGlDlO",
        "outputId": "3755976f-be95-4cdd-9e27-ed6800856a04"
      },
      "execution_count": null,
      "outputs": [
        {
          "output_type": "stream",
          "name": "stdout",
          "text": [
            "TensorFlow Example:\n",
            "Sum: 5\n",
            "Product: 6\n"
          ]
        }
      ]
    },
    {
      "cell_type": "markdown",
      "source": [
        "**NumPy:**\n",
        "\n",
        " NumPy is a fundamental package for scientific computing with Python. It provides support for large, multi-dimensional arrays and matrices, along with mathematical functions to operate on these arrays."
      ],
      "metadata": {
        "id": "IAjOocAolzKF"
      }
    },
    {
      "cell_type": "code",
      "source": [
        "import numpy as np\n",
        "\n",
        "# Create a NumPy array\n",
        "arr = np.array([[1, 2, 3], [4, 5, 6]])\n",
        "\n",
        "# Perform basic operations\n",
        "arr_sum = np.sum(arr)\n",
        "arr_mean = np.mean(arr)\n",
        "\n",
        "print(\"\\nNumPy Example:\")\n",
        "print(f\"Array:\\n{arr}\")\n",
        "print(f\"Sum: {arr_sum}\")\n",
        "print(f\"Mean: {arr_mean}\")\n"
      ],
      "metadata": {
        "colab": {
          "base_uri": "https://localhost:8080/"
        },
        "id": "raDOZPxcl0Fk",
        "outputId": "db216e9e-9973-4e60-ded1-db2d88359a9f"
      },
      "execution_count": null,
      "outputs": [
        {
          "output_type": "stream",
          "name": "stdout",
          "text": [
            "\n",
            "NumPy Example:\n",
            "Array:\n",
            "[[1 2 3]\n",
            " [4 5 6]]\n",
            "Sum: 21\n",
            "Mean: 3.5\n"
          ]
        }
      ]
    },
    {
      "cell_type": "markdown",
      "source": [
        "**SciPy:**\n",
        "\n",
        "Theory: SciPy is an open-source library used for mathematics, science, and engineering. It builds on NumPy and provides additional functionality for optimization, signal and image processing, statistical functions, and more."
      ],
      "metadata": {
        "id": "JpQjA3brnPQL"
      }
    },
    {
      "cell_type": "code",
      "source": [
        "import numpy as np\n",
        "from scipy.stats import norm\n",
        "\n",
        "# Generate a random sample\n",
        "data = np.random.normal(size=1000)\n",
        "\n",
        "# Fit a normal distribution to the data\n",
        "mu, std = norm.fit(data)\n",
        "\n",
        "print(\"\\nSciPy Example:\")\n",
        "print(f\"Mean: {mu}\")\n",
        "print(f\"Standard Deviation: {std}\")\n"
      ],
      "metadata": {
        "colab": {
          "base_uri": "https://localhost:8080/"
        },
        "id": "ueayMeavnXl7",
        "outputId": "fcd86a19-d55e-485e-d2a9-1ad926fc5855"
      },
      "execution_count": null,
      "outputs": [
        {
          "output_type": "stream",
          "name": "stdout",
          "text": [
            "\n",
            "SciPy Example:\n",
            "Mean: -0.02588020514628092\n",
            "Standard Deviation: 1.0487028715354612\n"
          ]
        }
      ]
    },
    {
      "cell_type": "markdown",
      "source": [
        "**Pandas:**\n",
        "\n",
        "Theory: Pandas is a powerful data manipulation and analysis library. It provides data structures like Series and DataFrame, which are essential for handling and analyzing structured data."
      ],
      "metadata": {
        "id": "3XL1ezLank9k"
      }
    },
    {
      "cell_type": "code",
      "source": [
        "import pandas as pd\n",
        "\n",
        "# Create a Pandas DataFrame\n",
        "data = {'Name': ['John', 'Jane', 'Bob'],\n",
        "        'Age': [25, 30, 22],\n",
        "        'City': ['New York', 'San Francisco', 'Los Angeles']}\n",
        "df = pd.DataFrame(data)\n",
        "\n",
        "print(\"\\nPandas Example:\")\n",
        "print(df)\n"
      ],
      "metadata": {
        "colab": {
          "base_uri": "https://localhost:8080/"
        },
        "id": "DI-t-BB1nqzq",
        "outputId": "bbcaff90-d4c9-4921-ae42-412db395452f"
      },
      "execution_count": null,
      "outputs": [
        {
          "output_type": "stream",
          "name": "stdout",
          "text": [
            "\n",
            "Pandas Example:\n",
            "   Name  Age           City\n",
            "0  John   25       New York\n",
            "1  Jane   30  San Francisco\n",
            "2   Bob   22    Los Angeles\n"
          ]
        }
      ]
    },
    {
      "cell_type": "markdown",
      "source": [
        "**Data Analytics libraries in r:**"
      ],
      "metadata": {
        "id": "oWqJ0I8LgPbC"
      }
    },
    {
      "cell_type": "markdown",
      "source": [
        "**dplyr:**\n",
        "\n",
        "dplyr is a powerful and user-friendly package for data manipulation in R. It provides a set of functions that are easy to understand and work seamlessly with data frames. The package follows a consistent grammar for data manipulation, making it easy to chain operations together. Some key functions in dplyr include filter(), select(), arrange(), mutate(), and summarize(). These functions allow users to filter rows, select columns, arrange data, create new variables, and summarize data in a clear and concise manner."
      ],
      "metadata": {
        "id": "SSvKdvERod80"
      }
    },
    {
      "cell_type": "code",
      "source": [],
      "metadata": {
        "id": "OLRS8jVrgath"
      },
      "execution_count": null,
      "outputs": []
    },
    {
      "cell_type": "code",
      "source": [
        "# Install and load the dplyr package\n",
        "install.packages(\"dplyr\")\n",
        "library(dplyr)\n",
        "\n",
        "# Create a sample data frame\n",
        "data <- data.frame(\n",
        "  Name = c(\"John\", \"Jane\", \"Bob\"),\n",
        "  Age = c(25, 30, 22),\n",
        "  City = c(\"New York\", \"San Francisco\", \"Los Angeles\")\n",
        ")\n",
        "\n",
        "# Filter rows where Age is greater than 25\n",
        "filtered_data <- data %>% filter(Age > 25)\n",
        "\n",
        "# Select Name and City columns\n",
        "selected_data <- data %>% select(Name, City)\n",
        "\n",
        "# Arrange data by Age in descending order\n",
        "arranged_data <- data %>% arrange(desc(Age))\n",
        "\n",
        "# Mutate a new variable (Age_squared)\n",
        "mutated_data <- data %>% mutate(Age_squared = Age^2)\n",
        "\n",
        "# Summarize data to get mean Age\n",
        "summary_data <- data %>% summarize(mean_age = mean(Age))\n",
        "\n",
        "# Display the results\n",
        "print(\"Filtered Data:\")\n",
        "print(filtered_data)\n",
        "\n",
        "print(\"\\nSelected Data:\")\n",
        "print(selected_data)\n",
        "\n",
        "print(\"\\nArranged Data:\")\n",
        "print(arranged_data)\n",
        "\n",
        "print(\"\\nMutated Data:\")\n",
        "print(mutated_data)\n",
        "\n",
        "print(\"\\nSummary Data:\")\n",
        "print(summary_data)\n"
      ],
      "metadata": {
        "colab": {
          "base_uri": "https://localhost:8080/"
        },
        "id": "FW2FySwmo5lb",
        "outputId": "a96f093a-6cfb-4ccc-c18f-98fcdb42a9f7"
      },
      "execution_count": null,
      "outputs": [
        {
          "output_type": "stream",
          "name": "stderr",
          "text": [
            "Installing package into ‘/usr/local/lib/R/site-library’\n",
            "(as ‘lib’ is unspecified)\n",
            "\n",
            "\n",
            "Attaching package: ‘dplyr’\n",
            "\n",
            "\n",
            "The following objects are masked from ‘package:stats’:\n",
            "\n",
            "    filter, lag\n",
            "\n",
            "\n",
            "The following objects are masked from ‘package:base’:\n",
            "\n",
            "    intersect, setdiff, setequal, union\n",
            "\n",
            "\n"
          ]
        },
        {
          "output_type": "stream",
          "name": "stdout",
          "text": [
            "[1] \"Filtered Data:\"\n",
            "  Name Age          City\n",
            "1 Jane  30 San Francisco\n",
            "[1] \"\\nSelected Data:\"\n",
            "  Name          City\n",
            "1 John      New York\n",
            "2 Jane San Francisco\n",
            "3  Bob   Los Angeles\n",
            "[1] \"\\nArranged Data:\"\n",
            "  Name Age          City\n",
            "1 Jane  30 San Francisco\n",
            "2 John  25      New York\n",
            "3  Bob  22   Los Angeles\n",
            "[1] \"\\nMutated Data:\"\n",
            "  Name Age          City Age_squared\n",
            "1 John  25      New York         625\n",
            "2 Jane  30 San Francisco         900\n",
            "3  Bob  22   Los Angeles         484\n",
            "[1] \"\\nSummary Data:\"\n",
            "  mean_age\n",
            "1 25.66667\n"
          ]
        }
      ]
    },
    {
      "cell_type": "markdown",
      "source": [
        "**tidyr:**\n",
        "\n",
        "tidyr is another essential package for data manipulation in R, specifically focusing on data tidying and reshaping. It provides functions for transforming data between wide and long formats, handling missing values, and separating/combining variables. Key functions in tidyr include gather(), spread(), separate(), unite(), and fill(). These functions help in organizing and restructuring data frames to make them more suitable for analysis."
      ],
      "metadata": {
        "id": "ZNJHTFiIplXz"
      }
    },
    {
      "cell_type": "code",
      "source": [
        "# Install and load the tidyr package\n",
        "install.packages(\"tidyr\")\n",
        "library(tidyr)\n",
        "\n",
        "# Create a sample data frame\n",
        "data <- data.frame(\n",
        "  Name = c(\"John\", \"Jane\", \"Bob\"),\n",
        "  Age_Location = c(\"25_New York\", \"30_San Francisco\", \"22_Los Angeles\")\n",
        ")\n",
        "\n",
        "# Separate the Age_Location column into Age and Location\n",
        "separated_data <- data %>% separate(Age_Location, into = c(\"Age\", \"Location\"), sep = \"_\")\n",
        "\n",
        "# Spread the data back to wide format\n",
        "spread_data <- separated_data %>% spread(key = Location, value = Age)\n",
        "\n",
        "# Gather the data into long format\n",
        "gathered_data <- spread_data %>% gather(key = Location, value = Age, -Name)\n",
        "\n",
        "# Unite Name and Age columns\n",
        "united_data <- separated_data %>% unite(Name_Age, Name, Age, sep = \"_\")\n",
        "\n",
        "# Fill missing values in the Age column\n",
        "filled_data <- gathered_data %>% fill(Age)\n",
        "\n",
        "# Display the results\n",
        "print(\"\\nSeparated Data:\")\n",
        "print(separated_data)\n",
        "\n",
        "print(\"\\nSpread Data:\")\n",
        "print(spread_data)\n",
        "\n",
        "print(\"\\nGathered Data:\")\n",
        "print(gathered_data)\n",
        "\n",
        "print(\"\\nUnited Data:\")\n",
        "print(united_data)\n",
        "\n",
        "print(\"\\nFilled Data:\")\n",
        "print(filled_data)\n"
      ],
      "metadata": {
        "colab": {
          "base_uri": "https://localhost:8080/"
        },
        "id": "YiIjqyV_puvD",
        "outputId": "a33a7497-24c5-4d3f-e858-bc1ccdb4928d"
      },
      "execution_count": null,
      "outputs": [
        {
          "output_type": "stream",
          "name": "stderr",
          "text": [
            "Installing package into ‘/usr/local/lib/R/site-library’\n",
            "(as ‘lib’ is unspecified)\n",
            "\n"
          ]
        },
        {
          "output_type": "stream",
          "name": "stdout",
          "text": [
            "[1] \"\\nSeparated Data:\"\n",
            "  Name Age      Location\n",
            "1 John  25      New York\n",
            "2 Jane  30 San Francisco\n",
            "3  Bob  22   Los Angeles\n",
            "[1] \"\\nSpread Data:\"\n",
            "  Name Los Angeles New York San Francisco\n",
            "1  Bob          22     <NA>          <NA>\n",
            "2 Jane        <NA>     <NA>            30\n",
            "3 John        <NA>       25          <NA>\n",
            "[1] \"\\nGathered Data:\"\n",
            "  Name      Location  Age\n",
            "1  Bob   Los Angeles   22\n",
            "2 Jane   Los Angeles <NA>\n",
            "3 John   Los Angeles <NA>\n",
            "4  Bob      New York <NA>\n",
            "5 Jane      New York <NA>\n",
            "6 John      New York   25\n",
            "7  Bob San Francisco <NA>\n",
            "8 Jane San Francisco   30\n",
            "9 John San Francisco <NA>\n",
            "[1] \"\\nUnited Data:\"\n",
            "  Name_Age      Location\n",
            "1  John_25      New York\n",
            "2  Jane_30 San Francisco\n",
            "3   Bob_22   Los Angeles\n",
            "[1] \"\\nFilled Data:\"\n",
            "  Name      Location Age\n",
            "1  Bob   Los Angeles  22\n",
            "2 Jane   Los Angeles  22\n",
            "3 John   Los Angeles  22\n",
            "4  Bob      New York  22\n",
            "5 Jane      New York  22\n",
            "6 John      New York  25\n",
            "7  Bob San Francisco  25\n",
            "8 Jane San Francisco  30\n",
            "9 John San Francisco  30\n"
          ]
        }
      ]
    },
    {
      "cell_type": "markdown",
      "source": [
        "**Conclusion:**\n",
        "\n",
        "In this exploration of R and Python libraries, the dplyr and tidyr packages in R stand out for their streamlined and expressive data manipulation capabilities, offering efficient tools for filtering, selecting, and reshaping datasets. On the Python side, TensorFlow and Keras provide a powerful combination for machine learning tasks, with TensorFlow serving as the foundational library and Keras offering a high-level API for neural network development. NumPy and SciPy contribute to Python's numerical computing prowess, while Pandas simplifies data manipulation tasks with its versatile DataFrame structures. BeautifulSoup and Scrapy shine in web scraping scenarios, and PyTorch stands as a flexible and widely-used alternative for deep learning applications. These libraries collectively empower data scientists and researchers with diverse tools, catering to a range of needs in data analysis, machine learning, and web scraping. Ultimately, the choice between R and Python libraries depends on user preferences and specific project requirements."
      ],
      "metadata": {
        "id": "xjykuM2xgeBQ"
      }
    }
  ]
}